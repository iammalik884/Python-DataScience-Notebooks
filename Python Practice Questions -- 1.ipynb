{
 "cells": [
  {
   "cell_type": "markdown",
   "id": "a190b5c6",
   "metadata": {},
   "source": [
    "1) Write a program to concatenate two strings \"Good Morning!\" and \"Have a nice day!\" and print the combined string using a space in between."
   ]
  },
  {
   "cell_type": "markdown",
   "id": "49308533",
   "metadata": {},
   "source": [
    "2) Can you give multiline comment & explain what is the meaning of identifiers?"
   ]
  },
  {
   "cell_type": "markdown",
   "id": "2f387717",
   "metadata": {},
   "source": [
    "3) Write a program to slice a string str1=\"Hello Everyone\". Show output for str1[2:7], str1[:4], str1[5:], str1[-6:-1], str1[-5:-2]"
   ]
  },
  {
   "cell_type": "markdown",
   "id": "70c5d551",
   "metadata": {},
   "source": [
    "4) We have variable x=22+5j. Can you check the type of variable x?"
   ]
  },
  {
   "cell_type": "markdown",
   "id": "1e935fcb",
   "metadata": {},
   "source": [
    "5) We have variable y=88.7. How do we check if y is instance of float type?"
   ]
  },
  {
   "cell_type": "markdown",
   "id": "b7b99679",
   "metadata": {},
   "source": [
    "6) Use partition() to split the string, str3=\"Twinkle Twinkle little star\" based on argument string \"little\""
   ]
  },
  {
   "cell_type": "markdown",
   "id": "a6a00eeb",
   "metadata": {},
   "source": [
    "7) What is the output of x=int(5.7)+float(4)+int(True)?"
   ]
  },
  {
   "cell_type": "markdown",
   "id": "5499094f",
   "metadata": {},
   "source": [
    "8) We have string, str=\"Have a nice day!\". Can you count & print number of occurances of letter 'a'?"
   ]
  },
  {
   "cell_type": "markdown",
   "id": "173d3f8f",
   "metadata": {},
   "source": [
    "9) str1=\"   Thank you  \". Remove whitespaces from beginning & end of string."
   ]
  },
  {
   "cell_type": "markdown",
   "id": "b0131f62",
   "metadata": {},
   "source": [
    "10) Split str=\"Have a nice day!\" based on letter 'a'"
   ]
  },
  {
   "cell_type": "markdown",
   "id": "b5a72b05-209c-4671-959d-095065261782",
   "metadata": {},
   "source": [
    "11) Create a string str5=\"Good Day\". How to check if letter D is present in it or not?"
   ]
  },
  {
   "cell_type": "markdown",
   "id": "6c425165-4ca2-4cdf-ab52-0ecde587f607",
   "metadata": {},
   "source": [
    "12) Use string functions to split your entire string based on 's"
   ]
  }
 ],
 "metadata": {
  "kernelspec": {
   "display_name": "Python 3 (ipykernel)",
   "language": "python",
   "name": "python3"
  },
  "language_info": {
   "codemirror_mode": {
    "name": "ipython",
    "version": 3
   },
   "file_extension": ".py",
   "mimetype": "text/x-python",
   "name": "python",
   "nbconvert_exporter": "python",
   "pygments_lexer": "ipython3",
   "version": "3.11.7"
  }
 },
 "nbformat": 4,
 "nbformat_minor": 5
}
