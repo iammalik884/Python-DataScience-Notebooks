{
 "cells": [
  {
   "cell_type": "markdown",
   "id": "cd678fba",
   "metadata": {},
   "source": [
    "1) Write a program using if-elif statements to find maximum between three numbers."
   ]
  },
  {
   "cell_type": "markdown",
   "id": "6ed0f14c",
   "metadata": {},
   "source": [
    "2) Write a program where based on user input you need to print different statements. (Use if--elif)\n",
    "     If temperature is greater than 30-- print, Its very hot\n",
    "     If temperature is less than 30 but greater than 20--- print, Its hot but manageable\n",
    "     If temperature is less than 20 but greater than 10--- print, Its cold\n",
    "     If temperature is less than 10 but greater than 0--- print Its very cold\n",
    "     Else if temperature less than 10---- print Its Freezing cold\n",
    "     \n",
    "     Example:To check less than 30 but greater than 20 use (temp>=30 and temp<20) as condition.\n",
    "     This way it will check for temperature between 30 & 20\n"
   ]
  },
  {
   "cell_type": "markdown",
   "id": "72877431",
   "metadata": {},
   "source": [
    "3) Write a program to check whether a number is divisible by 7 or not"
   ]
  },
  {
   "cell_type": "markdown",
   "id": "8c2c4ae9",
   "metadata": {},
   "source": [
    "4) To check wheather given element exists in list or not??\n",
    "    list=[1,2,3,4,5,6,7,8,9,10]\n",
    "    check if 9 and 12 are present in given list or not"
   ]
  },
  {
   "cell_type": "markdown",
   "id": "07b3eb91",
   "metadata": {},
   "source": [
    "5) How to print the largest item from the given list"
   ]
  },
  {
   "cell_type": "markdown",
   "id": "13852b5d",
   "metadata": {},
   "source": [
    "6) Write a Python program to get the difference between a given number and 17,\n",
    "   if the number is greater than 17 return double the absolute difference"
   ]
  },
  {
   "cell_type": "markdown",
   "id": "42fac717",
   "metadata": {},
   "source": [
    "7) Write a Python program to display the first and last colors from the following list.\n",
    "    color_list = [\"Red\",\"Green\",\"White\" ,\"Black\"]"
   ]
  },
  {
   "cell_type": "markdown",
   "id": "34ebc16b",
   "metadata": {},
   "source": [
    "8. Write a program to check if entered character is a vowel or not."
   ]
  },
  {
   "cell_type": "markdown",
   "id": "724d359c",
   "metadata": {},
   "source": [
    "9) We have tuple, tup1=(\"hello\",\"thanks\",\"bye\")\n",
    "    How to print index of \"thanks\"?"
   ]
  },
  {
   "cell_type": "markdown",
   "id": "9c120880",
   "metadata": {},
   "source": [
    "10) We have set, set1={5,6,7,8}\n",
    "    How to add multiple items 12,15,18 in set1?"
   ]
  },
  {
   "cell_type": "markdown",
   "id": "a78e5bd5",
   "metadata": {},
   "source": [
    "11) Write a Python program which accepts a sequence of comma-separated numbers from user and generate a list and a tuple with those numbers"
   ]
  },
  {
   "cell_type": "markdown",
   "id": "21c651f1",
   "metadata": {},
   "source": [
    "12. A school has following rules for grading system:\n",
    "\n",
    "a. Below 25 - F\n",
    "\n",
    "b. 25 to 45 - E\n",
    "\n",
    "c. 45 to 50 - D\n",
    "\n",
    "d. 50 to 60 - C\n",
    "\n",
    "e. 60 to 80 - B\n",
    "\n",
    "f. Above 80 - A\n",
    "\n",
    "Ask user to enter marks and print the corresponding grade."
   ]
  },
  {
   "cell_type": "markdown",
   "id": "b8d7be0f",
   "metadata": {},
   "source": [
    "13. Write a program to display last digit of the number.\n",
    "(Hint: Any number % 10 will return last digit)"
   ]
  }
 ],
 "metadata": {
  "kernelspec": {
   "display_name": "Python 3 (ipykernel)",
   "language": "python",
   "name": "python3"
  },
  "language_info": {
   "codemirror_mode": {
    "name": "ipython",
    "version": 3
   },
   "file_extension": ".py",
   "mimetype": "text/x-python",
   "name": "python",
   "nbconvert_exporter": "python",
   "pygments_lexer": "ipython3",
   "version": "3.11.7"
  }
 },
 "nbformat": 4,
 "nbformat_minor": 5
}
