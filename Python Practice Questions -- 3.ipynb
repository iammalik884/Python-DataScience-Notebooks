{
 "cells": [
  {
   "cell_type": "markdown",
   "id": "2e7047ff",
   "metadata": {
    "id": "2e7047ff"
   },
   "source": [
    "1) From the below nested dictionary, pick the word \"Bangalore\".\n",
    "   d = {'1':'One','2':[1,{'Two':['Ch','Cbe','Salem',{'Place':[5,6,7,'Bangalore']}]}]}"
   ]
  },
  {
   "cell_type": "markdown",
   "id": "518fde26",
   "metadata": {
    "id": "518fde26"
   },
   "source": [
    "2) Write a program to reverse a string using while loop"
   ]
  },
  {
   "cell_type": "markdown",
   "id": "28424ca1",
   "metadata": {
    "id": "28424ca1"
   },
   "source": [
    "3) Write a program to find sum of all numbers from 1 to 20 using for loop"
   ]
  },
  {
   "cell_type": "markdown",
   "id": "1798f1ee",
   "metadata": {
    "id": "1798f1ee"
   },
   "source": [
    "4) Write a program to display the numbers in reverse from 100 to 1"
   ]
  },
  {
   "cell_type": "markdown",
   "id": "e9a38446",
   "metadata": {
    "id": "e9a38446"
   },
   "source": [
    "5) Write program to test whether the given number lies between 1 and 10"
   ]
  },
  {
   "cell_type": "markdown",
   "id": "f183d5ae",
   "metadata": {
    "id": "f183d5ae"
   },
   "source": [
    "6) Write program to display multiples of 2 from 10 to 50 using range"
   ]
  },
  {
   "cell_type": "markdown",
   "id": "30f7deb4",
   "metadata": {
    "id": "30f7deb4"
   },
   "source": [
    "7) Use functions to return square of numbers from 2 to 5"
   ]
  },
  {
   "cell_type": "markdown",
   "id": "e8ba219f",
   "metadata": {
    "id": "e8ba219f"
   },
   "source": [
    "8) Write a function calculation() such that it can accept two variables and calculate the addition and subtraction of it.And also it must return both addition and subtraction in a single return call"
   ]
  },
  {
   "cell_type": "markdown",
   "id": "bb1056dc",
   "metadata": {
    "id": "bb1056dc"
   },
   "source": [
    "9) Create a function showEmployee() in such a way that it should accept employee name, and it’s salary and display both,and if the salary is missing in function call it should show it as 9000"
   ]
  },
  {
   "cell_type": "markdown",
   "id": "f5639b2a",
   "metadata": {
    "id": "f5639b2a"
   },
   "source": [
    "10) Generate a Python list of all the even numbers between 4 to 30"
   ]
  },
  {
   "cell_type": "markdown",
   "id": "771baa17",
   "metadata": {
    "id": "771baa17"
   },
   "source": [
    "11) Write a Python program which accepts the radius of a circle from the user and compute the area."
   ]
  },
  {
   "cell_type": "markdown",
   "id": "APWOci2ohuRh",
   "metadata": {
    "id": "APWOci2ohuRh"
   },
   "source": [
    "12) Write anonymous function to calculate area of a square."
   ]
  },
  {
   "cell_type": "markdown",
   "id": "II-Xcbjahkq-",
   "metadata": {
    "id": "II-Xcbjahkq-"
   },
   "source": [
    "13) Write anonymous function to calculate expression 4*a+20*b+c"
   ]
  }
 ],
 "metadata": {
  "colab": {
   "provenance": []
  },
  "kernelspec": {
   "display_name": "Python 3 (ipykernel)",
   "language": "python",
   "name": "python3"
  },
  "language_info": {
   "codemirror_mode": {
    "name": "ipython",
    "version": 3
   },
   "file_extension": ".py",
   "mimetype": "text/x-python",
   "name": "python",
   "nbconvert_exporter": "python",
   "pygments_lexer": "ipython3",
   "version": "3.11.5"
  }
 },
 "nbformat": 4,
 "nbformat_minor": 5
}
