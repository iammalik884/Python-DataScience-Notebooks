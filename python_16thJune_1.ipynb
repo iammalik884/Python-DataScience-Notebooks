{
 "cells": [
  {
   "cell_type": "code",
   "execution_count": 1,
   "id": "744af6ac-58e8-4a8e-89bc-dbff6c994732",
   "metadata": {},
   "outputs": [
    {
     "data": {
      "text/plain": [
       "11"
      ]
     },
     "execution_count": 1,
     "metadata": {},
     "output_type": "execute_result"
    }
   ],
   "source": [
    "5+6"
   ]
  },
  {
   "cell_type": "code",
   "execution_count": 4,
   "id": "a3a60145-b284-4629-a0b7-f5252a7356c1",
   "metadata": {},
   "outputs": [
    {
     "data": {
      "text/plain": [
       "7"
      ]
     },
     "execution_count": 4,
     "metadata": {},
     "output_type": "execute_result"
    }
   ],
   "source": [
    "9-2"
   ]
  },
  {
   "cell_type": "markdown",
   "id": "4f7d45a4-edc1-44f0-a423-23081a2e6aa2",
   "metadata": {},
   "source": [
    "This is a jupyter notebook"
   ]
  },
  {
   "cell_type": "raw",
   "id": "aa5f74cb-5dfe-465f-8eaa-29abbf4a6c13",
   "metadata": {},
   "source": [
    "This is a jupyter notebook"
   ]
  },
  {
   "cell_type": "markdown",
   "id": "f983b09b-0f94-47e5-a876-b6292cb80e1f",
   "metadata": {},
   "source": [
    "# Shortcut"
   ]
  },
  {
   "cell_type": "code",
   "execution_count": null,
   "id": "5fcf4f62-5468-40c2-b194-49f5fd277732",
   "metadata": {},
   "outputs": [],
   "source": [
    "Run cell -- shift + enter // ctrl + enter\n",
    "adding new cell above-- a\n",
    "adding new cell below-- b\n",
    "delete cell -- dd\n",
    "changing cell to markdown -- m\n",
    "changing cell to code -- y\n",
    "copy cell -- c\n",
    "paste cell -- v\n",
    "cut cell -- x\n",
    "undo -- z"
   ]
  },
  {
   "cell_type": "code",
   "execution_count": 6,
   "id": "aea4272b-e443-45f6-a87b-83488f4a25a0",
   "metadata": {},
   "outputs": [
    {
     "name": "stdout",
     "output_type": "stream",
     "text": [
      "Hello world\n"
     ]
    }
   ],
   "source": [
    "print(\"Hello world\")   #is used to print anything on the screen"
   ]
  },
  {
   "cell_type": "code",
   "execution_count": 8,
   "id": "4c571073-7a1b-4f6f-966f-b7aae2989dc0",
   "metadata": {},
   "outputs": [
    {
     "name": "stdout",
     "output_type": "stream",
     "text": [
      "Requirement already satisfied: numpy in d:\\anaconda\\lib\\site-packages (1.26.4)\n"
     ]
    }
   ],
   "source": [
    "#install library\n",
    "!pip install numpy"
   ]
  },
  {
   "cell_type": "code",
   "execution_count": 9,
   "id": "ce24a22d-8937-44d1-a7a1-a824a89ea70d",
   "metadata": {},
   "outputs": [],
   "source": [
    "#to use library\n",
    "import numpy"
   ]
  },
  {
   "cell_type": "code",
   "execution_count": 11,
   "id": "3980d855-e68b-41d5-8189-3f22336a716a",
   "metadata": {},
   "outputs": [
    {
     "name": "stdout",
     "output_type": "stream",
     "text": [
      "3.11.7 | packaged by Anaconda, Inc. | (main, Dec 15 2023, 18:05:47) [MSC v.1916 64 bit (AMD64)]\n"
     ]
    }
   ],
   "source": [
    "import sys\n",
    "print(sys.version)"
   ]
  },
  {
   "cell_type": "markdown",
   "id": "7c3bc425-4360-4c19-bca8-dc0b2178bbbf",
   "metadata": {},
   "source": [
    "# Keywords\n",
    "\n",
    "Keywords are predefined words in python, which can be used for different purpose"
   ]
  },
  {
   "cell_type": "code",
   "execution_count": 13,
   "id": "eb2a367e-7a93-44cd-8719-613bdf909f1d",
   "metadata": {},
   "outputs": [
    {
     "name": "stdout",
     "output_type": "stream",
     "text": [
      "['False', 'None', 'True', 'and', 'as', 'assert', 'async', 'await', 'break', 'class', 'continue', 'def', 'del', 'elif', 'else', 'except', 'finally', 'for', 'from', 'global', 'if', 'import', 'in', 'is', 'lambda', 'nonlocal', 'not', 'or', 'pass', 'raise', 'return', 'try', 'while', 'with', 'yield']\n"
     ]
    }
   ],
   "source": [
    "import keyword\n",
    "print(keyword.kwlist)   #kwlist lists all keywords in python"
   ]
  },
  {
   "cell_type": "code",
   "execution_count": 14,
   "id": "84ce6d01-d60b-4fd2-ae7a-876bb949fef7",
   "metadata": {},
   "outputs": [
    {
     "data": {
      "text/plain": [
       "35"
      ]
     },
     "execution_count": 14,
     "metadata": {},
     "output_type": "execute_result"
    }
   ],
   "source": [
    "len(keyword.kwlist)    #is used to perform counting"
   ]
  },
  {
   "cell_type": "markdown",
   "id": "8410ad82-4f08-4cb6-8b6d-6f6a84923f7b",
   "metadata": {},
   "source": [
    "# Comments\n",
    "\n",
    "Comments are put for better code readability."
   ]
  },
  {
   "cell_type": "code",
   "execution_count": 15,
   "id": "3cf887b9-8078-4c11-9fd0-7ecf6a0697fd",
   "metadata": {},
   "outputs": [],
   "source": [
    "#single line comments"
   ]
  },
  {
   "cell_type": "code",
   "execution_count": 16,
   "id": "d9857749-e523-41cb-bb7b-eb842b3de435",
   "metadata": {},
   "outputs": [
    {
     "data": {
      "text/plain": [
       "'\\n\\nMultiline\\n\\ncomments\\n\\n'"
      ]
     },
     "execution_count": 16,
     "metadata": {},
     "output_type": "execute_result"
    }
   ],
   "source": [
    "'''\n",
    "\n",
    "Multiline\n",
    "\n",
    "comments\n",
    "\n",
    "'''"
   ]
  },
  {
   "cell_type": "markdown",
   "id": "0a5586bf-6e97-4ac4-9955-6841514f4df2",
   "metadata": {},
   "source": [
    "# Variables\n",
    "\n",
    "* Variables are reserved memory location to store any value\n",
    "* They are created the moment a value is assigned to it"
   ]
  },
  {
   "cell_type": "code",
   "execution_count": 17,
   "id": "de35bad9-c4fb-47ae-ae8c-421d4111cbe1",
   "metadata": {},
   "outputs": [],
   "source": [
    "x=8   #creating a variable x with value 8"
   ]
  },
  {
   "cell_type": "code",
   "execution_count": 20,
   "id": "84f24b39-0945-4aa0-a875-2cd6178caaf8",
   "metadata": {},
   "outputs": [
    {
     "name": "stdout",
     "output_type": "stream",
     "text": [
      "8\n"
     ]
    }
   ],
   "source": [
    "print(x)   #printing content of x"
   ]
  },
  {
   "cell_type": "code",
   "execution_count": 21,
   "id": "e5919623-ebdf-4cc4-ba28-30816bc7cc33",
   "metadata": {},
   "outputs": [
    {
     "data": {
      "text/plain": [
       "8"
      ]
     },
     "execution_count": 21,
     "metadata": {},
     "output_type": "execute_result"
    }
   ],
   "source": [
    "x      #calling x & printing its value"
   ]
  },
  {
   "cell_type": "markdown",
   "id": "50c00d8b-e120-412a-aa0b-c38872db49df",
   "metadata": {},
   "source": [
    "# Identifiers\n",
    "\n",
    "Identifiers are names given to entities like variables"
   ]
  },
  {
   "cell_type": "code",
   "execution_count": 22,
   "id": "eb45da4f-ee57-400b-a826-52423f54dfa2",
   "metadata": {},
   "outputs": [],
   "source": [
    "#Rule 1: Identifiers should not start with a digit"
   ]
  },
  {
   "cell_type": "code",
   "execution_count": 23,
   "id": "728a9569-ddf2-49b9-bfd4-bd4ea5b95210",
   "metadata": {},
   "outputs": [
    {
     "ename": "SyntaxError",
     "evalue": "invalid decimal literal (2700273881.py, line 1)",
     "output_type": "error",
     "traceback": [
      "\u001b[1;36m  Cell \u001b[1;32mIn[23], line 1\u001b[1;36m\u001b[0m\n\u001b[1;33m    1x=8   #wrong\u001b[0m\n\u001b[1;37m    ^\u001b[0m\n\u001b[1;31mSyntaxError\u001b[0m\u001b[1;31m:\u001b[0m invalid decimal literal\n"
     ]
    }
   ],
   "source": [
    "1x=8   #wrong"
   ]
  },
  {
   "cell_type": "code",
   "execution_count": 24,
   "id": "e3a379e8-1e33-47b0-9ff1-c42572770f68",
   "metadata": {},
   "outputs": [],
   "source": [
    "x1=8  #correct"
   ]
  },
  {
   "cell_type": "code",
   "execution_count": 25,
   "id": "f8a56ef2-d3af-421d-a07e-5b67dc653623",
   "metadata": {},
   "outputs": [],
   "source": [
    "#Rule 2: Special characters cannot be added in identifiers. Only special char allowed is _(underscore)"
   ]
  },
  {
   "cell_type": "code",
   "execution_count": 27,
   "id": "a4362c5e-4a19-42ec-a18e-7add073e0e3a",
   "metadata": {},
   "outputs": [
    {
     "ename": "SyntaxError",
     "evalue": "cannot assign to expression here. Maybe you meant '==' instead of '='? (3755431465.py, line 1)",
     "output_type": "error",
     "traceback": [
      "\u001b[1;36m  Cell \u001b[1;32mIn[27], line 1\u001b[1;36m\u001b[0m\n\u001b[1;33m    x%1=10   #wrong\u001b[0m\n\u001b[1;37m    ^\u001b[0m\n\u001b[1;31mSyntaxError\u001b[0m\u001b[1;31m:\u001b[0m cannot assign to expression here. Maybe you meant '==' instead of '='?\n"
     ]
    }
   ],
   "source": [
    "x%1=10   #wrong"
   ]
  },
  {
   "cell_type": "code",
   "execution_count": 28,
   "id": "0e4abfc7-4513-4810-95ec-8c0812a5bdc4",
   "metadata": {},
   "outputs": [],
   "source": [
    "x_1=10 #correct"
   ]
  },
  {
   "cell_type": "code",
   "execution_count": 29,
   "id": "f03921b3-cf93-4f84-9537-d79f1a0c1e4c",
   "metadata": {},
   "outputs": [],
   "source": [
    "#Rule 3: Keywords cannot be used as identifiers"
   ]
  },
  {
   "cell_type": "code",
   "execution_count": 30,
   "id": "0f0790e6-8265-4cde-89bc-7ae802475c90",
   "metadata": {},
   "outputs": [
    {
     "ename": "SyntaxError",
     "evalue": "invalid syntax (3598148329.py, line 1)",
     "output_type": "error",
     "traceback": [
      "\u001b[1;36m  Cell \u001b[1;32mIn[30], line 1\u001b[1;36m\u001b[0m\n\u001b[1;33m    import=10   #wrong\u001b[0m\n\u001b[1;37m          ^\u001b[0m\n\u001b[1;31mSyntaxError\u001b[0m\u001b[1;31m:\u001b[0m invalid syntax\n"
     ]
    }
   ],
   "source": [
    "import=10   #wrong"
   ]
  },
  {
   "cell_type": "code",
   "execution_count": 33,
   "id": "6d5aea5c-ea7c-49d8-821d-fd6b66e2215d",
   "metadata": {},
   "outputs": [],
   "source": [
    "x=10 #correct"
   ]
  },
  {
   "cell_type": "code",
   "execution_count": 34,
   "id": "d427dc6f-0ec4-4473-9c95-95231ec9707c",
   "metadata": {},
   "outputs": [],
   "source": [
    "#Rule 4: Python is case sensitive language. Capital and lower case are considered different"
   ]
  },
  {
   "cell_type": "code",
   "execution_count": 35,
   "id": "bf9ec738-62aa-4d51-b758-5e5440365e25",
   "metadata": {},
   "outputs": [],
   "source": [
    "var=20\n",
    "VAR=15"
   ]
  },
  {
   "cell_type": "code",
   "execution_count": 36,
   "id": "5f80cc2a-b9e0-4b48-8274-2846c939b20d",
   "metadata": {},
   "outputs": [
    {
     "name": "stdout",
     "output_type": "stream",
     "text": [
      "20\n"
     ]
    }
   ],
   "source": [
    "print(var)"
   ]
  },
  {
   "cell_type": "markdown",
   "id": "ce275355-cba1-43f0-9817-832c258e9f66",
   "metadata": {},
   "source": [
    "## Creating multiple variables together"
   ]
  },
  {
   "cell_type": "code",
   "execution_count": 39,
   "id": "b6e67ab2-965c-4c78-9199-8801bf93a1b5",
   "metadata": {},
   "outputs": [],
   "source": [
    "name=\"Raju\"                \n",
    "age=20\n",
    "city=\"Mumbai\""
   ]
  },
  {
   "cell_type": "code",
   "execution_count": 40,
   "id": "768f20f5-22e9-45eb-897e-3119e7e41370",
   "metadata": {},
   "outputs": [],
   "source": [
    "name,age,city=\"Raju\",20,\"Mumbai\""
   ]
  },
  {
   "cell_type": "code",
   "execution_count": 41,
   "id": "100f4578-0209-451c-a00c-8c276cd181e5",
   "metadata": {},
   "outputs": [
    {
     "name": "stdout",
     "output_type": "stream",
     "text": [
      "Raju 20 Mumbai\n"
     ]
    }
   ],
   "source": [
    "print(name,age,city)"
   ]
  },
  {
   "cell_type": "code",
   "execution_count": 42,
   "id": "45b993f7-0095-4938-8697-97ff8fc0491b",
   "metadata": {},
   "outputs": [],
   "source": [
    "a=b=c=d=e=40    #All variables are pointing to same value 40"
   ]
  },
  {
   "cell_type": "code",
   "execution_count": 43,
   "id": "7e6d5e9b-932c-422d-b02f-24b99c2fc897",
   "metadata": {},
   "outputs": [
    {
     "name": "stdout",
     "output_type": "stream",
     "text": [
      "40 40 40 40 40\n"
     ]
    }
   ],
   "source": [
    "print(a,b,c,d,e)"
   ]
  },
  {
   "cell_type": "markdown",
   "id": "947c899e-01fc-4957-9569-0072b37c6edb",
   "metadata": {},
   "source": [
    "# Data types in Python"
   ]
  },
  {
   "cell_type": "code",
   "execution_count": 44,
   "id": "bed83348-9e47-4090-aa38-e353f521e830",
   "metadata": {},
   "outputs": [
    {
     "name": "stdout",
     "output_type": "stream",
     "text": [
      "6\n",
      "<class 'int'>\n",
      "True\n",
      "28\n"
     ]
    }
   ],
   "source": [
    "x=6\n",
    "print(x)\n",
    "print(type(x))\n",
    "print(isinstance(x,int))\n",
    "print(sys.getsizeof(x))"
   ]
  },
  {
   "cell_type": "code",
   "execution_count": 45,
   "id": "6e5b878e-1c72-41d9-b85c-f96ba4c346f5",
   "metadata": {},
   "outputs": [
    {
     "name": "stdout",
     "output_type": "stream",
     "text": [
      "6.6\n",
      "<class 'float'>\n",
      "True\n",
      "24\n"
     ]
    }
   ],
   "source": [
    "x=6.6\n",
    "print(x)\n",
    "print(type(x))\n",
    "print(isinstance(x,float))\n",
    "print(sys.getsizeof(x))"
   ]
  },
  {
   "cell_type": "code",
   "execution_count": 47,
   "id": "fc162433-693b-4016-9e6f-697555063b30",
   "metadata": {},
   "outputs": [
    {
     "name": "stdout",
     "output_type": "stream",
     "text": [
      "False\n",
      "<class 'bool'>\n",
      "True\n",
      "28\n"
     ]
    }
   ],
   "source": [
    "x=False\n",
    "print(x)\n",
    "print(type(x))\n",
    "print(isinstance(x,bool))\n",
    "print(sys.getsizeof(x))"
   ]
  },
  {
   "cell_type": "code",
   "execution_count": 48,
   "id": "274d58b9-eed5-48bf-8bc7-88d0eb346ab6",
   "metadata": {},
   "outputs": [
    {
     "name": "stdout",
     "output_type": "stream",
     "text": [
      "(3-8j)\n",
      "<class 'complex'>\n",
      "True\n",
      "32\n"
     ]
    }
   ],
   "source": [
    "x=3-8j\n",
    "print(x)\n",
    "print(type(x))\n",
    "print(isinstance(x,complex))\n",
    "print(sys.getsizeof(x))"
   ]
  },
  {
   "cell_type": "code",
   "execution_count": 52,
   "id": "584a710e-c6a1-470a-b18a-333322ad6592",
   "metadata": {},
   "outputs": [
    {
     "name": "stdout",
     "output_type": "stream",
     "text": [
      "h\n",
      "<class 'str'>\n",
      "True\n",
      "50\n"
     ]
    }
   ],
   "source": [
    "x=\"h\"\n",
    "print(x)\n",
    "print(type(x))\n",
    "print(isinstance(x,str))\n",
    "print(sys.getsizeof(x))"
   ]
  },
  {
   "cell_type": "markdown",
   "id": "858cb33f-4056-4ea2-b3f0-9ca95c9425f7",
   "metadata": {},
   "source": [
    "# String"
   ]
  },
  {
   "cell_type": "code",
   "execution_count": 61,
   "id": "cb0d3e0c-baab-4a27-ad3a-331cb93d249c",
   "metadata": {},
   "outputs": [],
   "source": [
    "str1=\"Hello Python\"\n",
    "str2='Hello World'"
   ]
  },
  {
   "cell_type": "markdown",
   "id": "40461dc0-a2ac-45d8-b8a7-0ef34ca6a431",
   "metadata": {},
   "source": [
    "## String Indexing"
   ]
  },
  {
   "cell_type": "code",
   "execution_count": 54,
   "id": "863f744d-16f0-49d4-8c21-4e7ca566b42c",
   "metadata": {},
   "outputs": [
    {
     "data": {
      "text/plain": [
       "'y'"
      ]
     },
     "execution_count": 54,
     "metadata": {},
     "output_type": "execute_result"
    }
   ],
   "source": [
    "str1[7]"
   ]
  },
  {
   "cell_type": "code",
   "execution_count": 55,
   "id": "48fb434e-f1e6-428e-b76f-7b8fc15af9c4",
   "metadata": {},
   "outputs": [
    {
     "data": {
      "text/plain": [
       "' '"
      ]
     },
     "execution_count": 55,
     "metadata": {},
     "output_type": "execute_result"
    }
   ],
   "source": [
    "str1[5]"
   ]
  },
  {
   "cell_type": "code",
   "execution_count": 56,
   "id": "a798a854-7d05-41ce-836b-d9b07744f3b5",
   "metadata": {},
   "outputs": [
    {
     "data": {
      "text/plain": [
       "'n'"
      ]
     },
     "execution_count": 56,
     "metadata": {},
     "output_type": "execute_result"
    }
   ],
   "source": [
    "str1[-1]"
   ]
  },
  {
   "cell_type": "code",
   "execution_count": 57,
   "id": "5baf9fd4-9369-4d69-a997-1a56da61cf25",
   "metadata": {},
   "outputs": [
    {
     "data": {
      "text/plain": [
       "'o'"
      ]
     },
     "execution_count": 57,
     "metadata": {},
     "output_type": "execute_result"
    }
   ],
   "source": [
    "str1[-8]"
   ]
  },
  {
   "cell_type": "markdown",
   "id": "9013f2ee-8085-4dfc-aae2-ac8da573c13b",
   "metadata": {},
   "source": [
    "# String Slicing"
   ]
  },
  {
   "cell_type": "code",
   "execution_count": 58,
   "id": "5689633c-4be4-46ee-b88e-43a2a8c1427a",
   "metadata": {},
   "outputs": [
    {
     "data": {
      "text/plain": [
       "'Hello Python'"
      ]
     },
     "execution_count": 58,
     "metadata": {},
     "output_type": "execute_result"
    }
   ],
   "source": [
    "str1"
   ]
  },
  {
   "cell_type": "code",
   "execution_count": 59,
   "id": "38dde7ea-0cf0-40b8-b485-9745ba15f5de",
   "metadata": {},
   "outputs": [
    {
     "data": {
      "text/plain": [
       "'llo Pyt'"
      ]
     },
     "execution_count": 59,
     "metadata": {},
     "output_type": "execute_result"
    }
   ],
   "source": [
    "str1[2:9]"
   ]
  },
  {
   "cell_type": "code",
   "execution_count": 60,
   "id": "425a3cfc-315b-48d7-b63b-dfbbb72c41df",
   "metadata": {},
   "outputs": [
    {
     "data": {
      "text/plain": [
       "'Hello '"
      ]
     },
     "execution_count": 60,
     "metadata": {},
     "output_type": "execute_result"
    }
   ],
   "source": [
    "str1[0:6]"
   ]
  },
  {
   "cell_type": "code",
   "execution_count": 62,
   "id": "0b09efe7-aec2-4a1f-bd5c-e3da1366f360",
   "metadata": {},
   "outputs": [
    {
     "data": {
      "text/plain": [
       "'Hello Python'"
      ]
     },
     "execution_count": 62,
     "metadata": {},
     "output_type": "execute_result"
    }
   ],
   "source": [
    "str1[:]"
   ]
  },
  {
   "cell_type": "code",
   "execution_count": 64,
   "id": "2f8fdf3f-4141-4c9a-b133-ef1d3ad22a44",
   "metadata": {},
   "outputs": [
    {
     "data": {
      "text/plain": [
       "' Python'"
      ]
     },
     "execution_count": 64,
     "metadata": {},
     "output_type": "execute_result"
    }
   ],
   "source": [
    "str1[5:]   #slices from index 5 till last char of string"
   ]
  },
  {
   "cell_type": "code",
   "execution_count": 65,
   "id": "82d98092-378e-4336-9389-a38dd3e391cd",
   "metadata": {},
   "outputs": [
    {
     "data": {
      "text/plain": [
       "'Hello Py'"
      ]
     },
     "execution_count": 65,
     "metadata": {},
     "output_type": "execute_result"
    }
   ],
   "source": [
    "str1[:8]  #slices from 0 index till 7"
   ]
  },
  {
   "cell_type": "code",
   "execution_count": 66,
   "id": "bdea7797-0d6a-408a-bb12-55d8a972b8f3",
   "metadata": {},
   "outputs": [
    {
     "data": {
      "text/plain": [
       "'HloPt'"
      ]
     },
     "execution_count": 66,
     "metadata": {},
     "output_type": "execute_result"
    }
   ],
   "source": [
    "str1[0:10:2]"
   ]
  },
  {
   "cell_type": "code",
   "execution_count": 68,
   "id": "1914efa6-1ae9-4a3f-b102-359921577b77",
   "metadata": {},
   "outputs": [
    {
     "data": {
      "text/plain": [
       "'ohtyP olle'"
      ]
     },
     "execution_count": 68,
     "metadata": {},
     "output_type": "execute_result"
    }
   ],
   "source": [
    "str1[10:0:-1]"
   ]
  },
  {
   "cell_type": "code",
   "execution_count": 71,
   "id": "17504026-00e3-4ef5-982d-f0aafac3d701",
   "metadata": {},
   "outputs": [
    {
     "data": {
      "text/plain": [
       "'nohtyP olleH'"
      ]
     },
     "execution_count": 71,
     "metadata": {},
     "output_type": "execute_result"
    }
   ],
   "source": [
    "str1[::-1]  #Reverses entire string"
   ]
  },
  {
   "cell_type": "markdown",
   "id": "7a5ff775-54ab-427a-bf72-c632c54053df",
   "metadata": {},
   "source": [
    "# String Concatenation\n",
    "\n",
    "It means to join the strings. We do this using + operator."
   ]
  },
  {
   "cell_type": "code",
   "execution_count": 72,
   "id": "4da85369-79b7-4507-a74b-9c967a0bd1a7",
   "metadata": {},
   "outputs": [],
   "source": [
    "str1=\"Data\"\n",
    "str2=\"Science\""
   ]
  },
  {
   "cell_type": "code",
   "execution_count": 74,
   "id": "012b2996-8cd6-4efa-9ed4-f6c281989ef0",
   "metadata": {},
   "outputs": [
    {
     "name": "stdout",
     "output_type": "stream",
     "text": [
      "Data Science\n"
     ]
    }
   ],
   "source": [
    "print(str1+\" \"+str2)"
   ]
  },
  {
   "cell_type": "code",
   "execution_count": 75,
   "id": "ba905c1d-7259-4521-ac2a-69c13371699c",
   "metadata": {},
   "outputs": [
    {
     "data": {
      "text/plain": [
       "'25'"
      ]
     },
     "execution_count": 75,
     "metadata": {},
     "output_type": "execute_result"
    }
   ],
   "source": [
    "'2'+'5'"
   ]
  },
  {
   "cell_type": "markdown",
   "id": "918bb9fd-f050-4e30-8e21-4d4a285e4132",
   "metadata": {},
   "source": [
    "# String Membership\n",
    "\n",
    "We can check if one string is present inside another string using 2 keywords:\n",
    "* in -- returns True if one string is present in another. Otherwise returns False\n",
    "* not in -- returns True if one string is not present in another. Otherwise returns False"
   ]
  },
  {
   "cell_type": "code",
   "execution_count": 76,
   "id": "0d9f5e7f-148d-4030-b704-68a36976a17e",
   "metadata": {},
   "outputs": [],
   "source": [
    "str1=\"Hello world\""
   ]
  },
  {
   "cell_type": "code",
   "execution_count": 77,
   "id": "7d909a97-aad5-44b3-875f-bb8d5635b285",
   "metadata": {},
   "outputs": [
    {
     "data": {
      "text/plain": [
       "True"
      ]
     },
     "execution_count": 77,
     "metadata": {},
     "output_type": "execute_result"
    }
   ],
   "source": [
    "'w' in str1"
   ]
  },
  {
   "cell_type": "code",
   "execution_count": 78,
   "id": "873a5d3a-4cd0-43ca-b1cb-fff1cffef227",
   "metadata": {},
   "outputs": [
    {
     "data": {
      "text/plain": [
       "False"
      ]
     },
     "execution_count": 78,
     "metadata": {},
     "output_type": "execute_result"
    }
   ],
   "source": [
    "'b' in str1"
   ]
  },
  {
   "cell_type": "code",
   "execution_count": 80,
   "id": "afbfb239-1b3a-4dd4-885f-735d901b6155",
   "metadata": {},
   "outputs": [
    {
     "data": {
      "text/plain": [
       "False"
      ]
     },
     "execution_count": 80,
     "metadata": {},
     "output_type": "execute_result"
    }
   ],
   "source": [
    "'l' not in str1"
   ]
  },
  {
   "cell_type": "code",
   "execution_count": 81,
   "id": "5c92df9d-fd12-49bd-87c1-0819df3d9bb4",
   "metadata": {},
   "outputs": [
    {
     "data": {
      "text/plain": [
       "True"
      ]
     },
     "execution_count": 81,
     "metadata": {},
     "output_type": "execute_result"
    }
   ],
   "source": [
    "'x' not in str1"
   ]
  },
  {
   "cell_type": "markdown",
   "id": "53dd33a6-1ddd-4979-bba8-da8dabcd89ae",
   "metadata": {},
   "source": [
    "# Built-in functions in python which can be applied on string"
   ]
  },
  {
   "cell_type": "code",
   "execution_count": 82,
   "id": "3660ecb4-f1d9-4976-b2e2-2766b4325d8e",
   "metadata": {},
   "outputs": [
    {
     "data": {
      "text/plain": [
       "'Hello world'"
      ]
     },
     "execution_count": 82,
     "metadata": {},
     "output_type": "execute_result"
    }
   ],
   "source": [
    "str1"
   ]
  },
  {
   "cell_type": "code",
   "execution_count": 83,
   "id": "cb59f992-6c11-4adc-bc84-36251ae5756c",
   "metadata": {},
   "outputs": [],
   "source": [
    "#len()-- is used to count total no. of characters in string"
   ]
  },
  {
   "cell_type": "code",
   "execution_count": 84,
   "id": "978a90d1-ab94-4401-b69d-c74fee81d0de",
   "metadata": {},
   "outputs": [
    {
     "data": {
      "text/plain": [
       "11"
      ]
     },
     "execution_count": 84,
     "metadata": {},
     "output_type": "execute_result"
    }
   ],
   "source": [
    "len(str1)"
   ]
  },
  {
   "cell_type": "code",
   "execution_count": 85,
   "id": "55bc3b8d-59f2-4a32-9111-5cdb22f56223",
   "metadata": {},
   "outputs": [],
   "source": [
    "#count()-- counts no. of occurance of a particular character"
   ]
  },
  {
   "cell_type": "code",
   "execution_count": 86,
   "id": "37214eb4-a0c1-4537-8d82-f082a1483e5f",
   "metadata": {},
   "outputs": [
    {
     "data": {
      "text/plain": [
       "3"
      ]
     },
     "execution_count": 86,
     "metadata": {},
     "output_type": "execute_result"
    }
   ],
   "source": [
    "str1.count('l')"
   ]
  },
  {
   "cell_type": "code",
   "execution_count": 87,
   "id": "7698a4a6-bf40-4e77-8bda-d761a4fc4abb",
   "metadata": {},
   "outputs": [],
   "source": [
    "#strip()--- removes whitespaces from both the ends of string"
   ]
  },
  {
   "cell_type": "code",
   "execution_count": 88,
   "id": "79c4a0ae-735c-4653-9d0b-76bf483caf2d",
   "metadata": {},
   "outputs": [],
   "source": [
    "str2=\"      Hello all     \""
   ]
  },
  {
   "cell_type": "code",
   "execution_count": 92,
   "id": "03c67ed9-3f91-41ee-93df-d1ee62f250f1",
   "metadata": {},
   "outputs": [
    {
     "data": {
      "text/plain": [
       "'Hello all'"
      ]
     },
     "execution_count": 92,
     "metadata": {},
     "output_type": "execute_result"
    }
   ],
   "source": [
    "str2.strip()"
   ]
  },
  {
   "cell_type": "code",
   "execution_count": 93,
   "id": "94acaffc-7ad3-4fb1-bfd7-492742f35675",
   "metadata": {},
   "outputs": [
    {
     "data": {
      "text/plain": [
       "'      Hello all     '"
      ]
     },
     "execution_count": 93,
     "metadata": {},
     "output_type": "execute_result"
    }
   ],
   "source": [
    "str2"
   ]
  },
  {
   "cell_type": "code",
   "execution_count": 91,
   "id": "7a43bb56-98fd-418b-8fa6-866074748991",
   "metadata": {},
   "outputs": [],
   "source": [
    "#Note: String is immutable structure (unchangeable)"
   ]
  },
  {
   "cell_type": "code",
   "execution_count": 95,
   "id": "7357417d-ed89-47e8-9af3-1bb5fb9946d7",
   "metadata": {},
   "outputs": [
    {
     "data": {
      "text/plain": [
       "'Hello all'"
      ]
     },
     "execution_count": 95,
     "metadata": {},
     "output_type": "execute_result"
    }
   ],
   "source": [
    "x=str2.strip()\n",
    "x"
   ]
  },
  {
   "cell_type": "code",
   "execution_count": 96,
   "id": "aaa29e4b-3f0d-4fb8-b190-d8276c1be057",
   "metadata": {},
   "outputs": [
    {
     "data": {
      "text/plain": [
       "'      Hello all     '"
      ]
     },
     "execution_count": 96,
     "metadata": {},
     "output_type": "execute_result"
    }
   ],
   "source": [
    "str2"
   ]
  },
  {
   "cell_type": "code",
   "execution_count": 100,
   "id": "bd5a34a2-49e4-4265-b959-0c983c52a6a2",
   "metadata": {},
   "outputs": [],
   "source": [
    "#lstrip()--removes whitespaces from left-- from beginning\n",
    "#rstrip()--removes whitespaces from right-- from end"
   ]
  },
  {
   "cell_type": "code",
   "execution_count": 98,
   "id": "46776438-304c-4403-8ba2-8d8222486b05",
   "metadata": {},
   "outputs": [
    {
     "data": {
      "text/plain": [
       "'Hello all     '"
      ]
     },
     "execution_count": 98,
     "metadata": {},
     "output_type": "execute_result"
    }
   ],
   "source": [
    "str2.lstrip()"
   ]
  },
  {
   "cell_type": "code",
   "execution_count": 99,
   "id": "581acabe-8b64-48d8-a3a2-f7edcb6668e9",
   "metadata": {},
   "outputs": [
    {
     "data": {
      "text/plain": [
       "'      Hello all'"
      ]
     },
     "execution_count": 99,
     "metadata": {},
     "output_type": "execute_result"
    }
   ],
   "source": [
    "str2.rstrip()"
   ]
  },
  {
   "cell_type": "code",
   "execution_count": 101,
   "id": "0c9ed564-ed96-47ad-ac72-d4cd6458a2e0",
   "metadata": {},
   "outputs": [],
   "source": [
    "#lower()--converts all letters of string to lower case\n",
    "#upper()-- conversts all letters to upper case"
   ]
  },
  {
   "cell_type": "code",
   "execution_count": 103,
   "id": "2a290c88-fe18-4495-a4b0-7611aff5484d",
   "metadata": {},
   "outputs": [
    {
     "data": {
      "text/plain": [
       "'hello world'"
      ]
     },
     "execution_count": 103,
     "metadata": {},
     "output_type": "execute_result"
    }
   ],
   "source": [
    "str1=\"HELLO WORLD\"\n",
    "str1.lower()"
   ]
  },
  {
   "cell_type": "code",
   "execution_count": 109,
   "id": "a9650ce4-492b-45eb-b962-ac639b404d79",
   "metadata": {},
   "outputs": [
    {
     "data": {
      "text/plain": [
       "'GOOD DAY'"
      ]
     },
     "execution_count": 109,
     "metadata": {},
     "output_type": "execute_result"
    }
   ],
   "source": [
    "str2=\"good day\"\n",
    "str2.upper()"
   ]
  },
  {
   "cell_type": "code",
   "execution_count": 105,
   "id": "38f0f489-541b-4955-868d-e064f938fecb",
   "metadata": {},
   "outputs": [],
   "source": [
    "#islower()--- returns True if all chars in string is lower case\n",
    "#isupper()--- returns True if all chars in string is upper case"
   ]
  },
  {
   "cell_type": "code",
   "execution_count": 106,
   "id": "df3eb869-5809-4026-98e3-cc6011371e36",
   "metadata": {},
   "outputs": [
    {
     "data": {
      "text/plain": [
       "True"
      ]
     },
     "execution_count": 106,
     "metadata": {},
     "output_type": "execute_result"
    }
   ],
   "source": [
    "str1.isupper()"
   ]
  },
  {
   "cell_type": "code",
   "execution_count": 110,
   "id": "d2fce484-14ca-411a-b372-f06211acb925",
   "metadata": {},
   "outputs": [
    {
     "data": {
      "text/plain": [
       "True"
      ]
     },
     "execution_count": 110,
     "metadata": {},
     "output_type": "execute_result"
    }
   ],
   "source": [
    "str2.islower()"
   ]
  },
  {
   "cell_type": "code",
   "execution_count": 111,
   "id": "79335af1-dc74-441a-962c-8fdd38448af5",
   "metadata": {},
   "outputs": [],
   "source": [
    "#partition()--- divides the string into 3 parts:\n",
    "#1st part is part before argumented string\n",
    "#2nd part is argumented string itself\n",
    "#3rd part is part after argumented string"
   ]
  },
  {
   "cell_type": "code",
   "execution_count": 112,
   "id": "7374d732-4be6-4fa6-8444-ec4381331453",
   "metadata": {},
   "outputs": [],
   "source": [
    "str1=\"Thank you all for your time\""
   ]
  },
  {
   "cell_type": "code",
   "execution_count": 118,
   "id": "38a2a62c-d97b-475f-93ad-983a5010be6c",
   "metadata": {},
   "outputs": [
    {
     "data": {
      "text/plain": [
       "('Thank you all ', 'for', ' your time')"
      ]
     },
     "execution_count": 118,
     "metadata": {},
     "output_type": "execute_result"
    }
   ],
   "source": [
    "str1.partition('for')"
   ]
  },
  {
   "cell_type": "code",
   "execution_count": 119,
   "id": "9bec60c3-5abe-4a62-ac61-f258d74dfa46",
   "metadata": {},
   "outputs": [],
   "source": [
    "#split()-- by default divides string into different parts based on spaces"
   ]
  },
  {
   "cell_type": "code",
   "execution_count": 120,
   "id": "0b38e590-7fdb-4f8b-9af8-2a4088e00cb5",
   "metadata": {},
   "outputs": [
    {
     "data": {
      "text/plain": [
       "['Thank', 'you', 'all', 'for', 'your', 'time']"
      ]
     },
     "execution_count": 120,
     "metadata": {},
     "output_type": "execute_result"
    }
   ],
   "source": [
    "str1.split()"
   ]
  },
  {
   "cell_type": "code",
   "execution_count": 121,
   "id": "748b4893-50f1-454f-aefa-cd66bcf6eb19",
   "metadata": {},
   "outputs": [
    {
     "data": {
      "text/plain": [
       "['Thank y', 'u all f', 'r y', 'ur time']"
      ]
     },
     "execution_count": 121,
     "metadata": {},
     "output_type": "execute_result"
    }
   ],
   "source": [
    "str1.split('o')"
   ]
  },
  {
   "cell_type": "code",
   "execution_count": 123,
   "id": "df0a8cea-fcc6-429e-b366-3b1ffbfac6b8",
   "metadata": {},
   "outputs": [],
   "source": [
    "#startswith()--returns True if string starts with a partcular character\n",
    "#endswith()--returns True if string ends with a partcular character"
   ]
  },
  {
   "cell_type": "code",
   "execution_count": 124,
   "id": "2ddb66ba-63d5-4f52-8aed-278518e87915",
   "metadata": {},
   "outputs": [
    {
     "data": {
      "text/plain": [
       "'good day'"
      ]
     },
     "execution_count": 124,
     "metadata": {},
     "output_type": "execute_result"
    }
   ],
   "source": [
    "str2"
   ]
  },
  {
   "cell_type": "code",
   "execution_count": 126,
   "id": "5f0d1eb0-58c8-42e2-a006-bad080f98904",
   "metadata": {},
   "outputs": [
    {
     "data": {
      "text/plain": [
       "False"
      ]
     },
     "execution_count": 126,
     "metadata": {},
     "output_type": "execute_result"
    }
   ],
   "source": [
    "str2.startswith('G')"
   ]
  },
  {
   "cell_type": "code",
   "execution_count": 127,
   "id": "34fe0368-c8c6-440e-ab2c-bcef0dbf2759",
   "metadata": {},
   "outputs": [
    {
     "data": {
      "text/plain": [
       "True"
      ]
     },
     "execution_count": 127,
     "metadata": {},
     "output_type": "execute_result"
    }
   ],
   "source": [
    "str2.endswith('y')"
   ]
  },
  {
   "cell_type": "markdown",
   "id": "e75ec12b-e939-4157-9a5e-ecae8c43415c",
   "metadata": {},
   "source": [
    "# Join string and numbers together"
   ]
  },
  {
   "cell_type": "code",
   "execution_count": 129,
   "id": "d9d7e085-cc90-4fe7-928f-9db21ca7217f",
   "metadata": {},
   "outputs": [
    {
     "name": "stdout",
     "output_type": "stream",
     "text": [
      "The answer of the expression is: 10\n"
     ]
    }
   ],
   "source": [
    "print(\"The answer of the expression is:\",10)"
   ]
  },
  {
   "cell_type": "code",
   "execution_count": 133,
   "id": "2ae30d23-7e5a-49e6-a5a9-b559a706ad05",
   "metadata": {},
   "outputs": [
    {
     "name": "stdout",
     "output_type": "stream",
     "text": [
      "The answer of the expression is: 10 49 12\n"
     ]
    }
   ],
   "source": [
    "print(\"The answer of the expression is: {} {} {}\".format(10,49,12))"
   ]
  },
  {
   "cell_type": "code",
   "execution_count": 132,
   "id": "c53cf836-239c-4fd9-8287-8f1ff297a9b3",
   "metadata": {},
   "outputs": [
    {
     "name": "stdout",
     "output_type": "stream",
     "text": [
      "The answer of the expression is: 10\n"
     ]
    }
   ],
   "source": [
    "print(f\"The answer of the expression is: {10}\")"
   ]
  },
  {
   "cell_type": "markdown",
   "id": "d5b861ac-ac32-4138-b2d6-c2fa1d3b0057",
   "metadata": {},
   "source": [
    "# Typecasting\n",
    "\n",
    "\n",
    "Converting data type of one value to another data type"
   ]
  },
  {
   "cell_type": "markdown",
   "id": "3ea0edd0-2b46-469e-bf74-a1d076cee291",
   "metadata": {},
   "source": [
    "# 1. Autotypecasting\n",
    "\n",
    "Data type is automatically converted to another data type by python interpreter based on some hierarchy.\n",
    "Float is given highest hierarchy for type conversion"
   ]
  },
  {
   "cell_type": "code",
   "execution_count": 134,
   "id": "48ab94b5-61ae-4171-972a-cc07e7c7914d",
   "metadata": {},
   "outputs": [
    {
     "data": {
      "text/plain": [
       "6.4"
      ]
     },
     "execution_count": 134,
     "metadata": {},
     "output_type": "execute_result"
    }
   ],
   "source": [
    "2+3.4+True"
   ]
  },
  {
   "cell_type": "code",
   "execution_count": 135,
   "id": "ce2f4354-12bd-4d6b-b680-75e3a461001e",
   "metadata": {},
   "outputs": [
    {
     "data": {
      "text/plain": [
       "6"
      ]
     },
     "execution_count": 135,
     "metadata": {},
     "output_type": "execute_result"
    }
   ],
   "source": [
    "6+False"
   ]
  },
  {
   "cell_type": "code",
   "execution_count": 137,
   "id": "0ba36449-e485-4e1e-8d11-3d926017d4c2",
   "metadata": {},
   "outputs": [
    {
     "ename": "TypeError",
     "evalue": "unsupported operand type(s) for +: 'int' and 'str'",
     "output_type": "error",
     "traceback": [
      "\u001b[1;31m---------------------------------------------------------------------------\u001b[0m",
      "\u001b[1;31mTypeError\u001b[0m                                 Traceback (most recent call last)",
      "Cell \u001b[1;32mIn[137], line 1\u001b[0m\n\u001b[1;32m----> 1\u001b[0m \u001b[38;5;241m4\u001b[39m\u001b[38;5;241m+\u001b[39m\u001b[38;5;124m'\u001b[39m\u001b[38;5;124m3\u001b[39m\u001b[38;5;124m'\u001b[39m\n",
      "\u001b[1;31mTypeError\u001b[0m: unsupported operand type(s) for +: 'int' and 'str'"
     ]
    }
   ],
   "source": [
    "4+'3'  #strings are not involved in autotypecasting"
   ]
  },
  {
   "cell_type": "markdown",
   "id": "54f69e3e-32e1-44d4-8803-c66e95222571",
   "metadata": {},
   "source": [
    "# 2. Forced typecasting\n",
    "\n",
    "Here data type is forecefully converted by users using some predefined functions"
   ]
  },
  {
   "cell_type": "code",
   "execution_count": 1,
   "id": "2d49fc41-a699-48d7-8bc2-e4cc2042e274",
   "metadata": {},
   "outputs": [],
   "source": [
    "#1. int()--- where any value can be forcefully converted to int"
   ]
  },
  {
   "cell_type": "code",
   "execution_count": 2,
   "id": "86464b5d-77b2-4198-b8bb-0d9be25c75e8",
   "metadata": {},
   "outputs": [
    {
     "data": {
      "text/plain": [
       "1"
      ]
     },
     "execution_count": 2,
     "metadata": {},
     "output_type": "execute_result"
    }
   ],
   "source": [
    "int(True)"
   ]
  },
  {
   "cell_type": "code",
   "execution_count": 4,
   "id": "9e5a71df-f541-4513-a24d-c73aa8afc7f4",
   "metadata": {},
   "outputs": [
    {
     "data": {
      "text/plain": [
       "5"
      ]
     },
     "execution_count": 4,
     "metadata": {},
     "output_type": "execute_result"
    }
   ],
   "source": [
    "int(5.8)  #No rounding takes place"
   ]
  },
  {
   "cell_type": "code",
   "execution_count": 5,
   "id": "7e2050e8-6d1e-431c-8307-65d643022ae2",
   "metadata": {},
   "outputs": [
    {
     "ename": "ValueError",
     "evalue": "invalid literal for int() with base 10: 'hi'",
     "output_type": "error",
     "traceback": [
      "\u001b[1;31m---------------------------------------------------------------------------\u001b[0m",
      "\u001b[1;31mValueError\u001b[0m                                Traceback (most recent call last)",
      "Cell \u001b[1;32mIn[5], line 1\u001b[0m\n\u001b[1;32m----> 1\u001b[0m \u001b[38;5;28mint\u001b[39m(\u001b[38;5;124m\"\u001b[39m\u001b[38;5;124mhi\u001b[39m\u001b[38;5;124m\"\u001b[39m)\n",
      "\u001b[1;31mValueError\u001b[0m: invalid literal for int() with base 10: 'hi'"
     ]
    }
   ],
   "source": [
    "int(\"hi\")"
   ]
  },
  {
   "cell_type": "code",
   "execution_count": 6,
   "id": "6608a849-3f53-4cac-b8e8-2c9d185d3523",
   "metadata": {},
   "outputs": [
    {
     "data": {
      "text/plain": [
       "5"
      ]
     },
     "execution_count": 6,
     "metadata": {},
     "output_type": "execute_result"
    }
   ],
   "source": [
    "int('5')"
   ]
  },
  {
   "cell_type": "code",
   "execution_count": 7,
   "id": "13119eee-deb6-4361-80d3-34c3e873d560",
   "metadata": {},
   "outputs": [],
   "source": [
    "#2. float()-- converts any value to float"
   ]
  },
  {
   "cell_type": "code",
   "execution_count": 8,
   "id": "fd0eea86-b9cb-4494-95be-420dc419769e",
   "metadata": {},
   "outputs": [
    {
     "data": {
      "text/plain": [
       "6.0"
      ]
     },
     "execution_count": 8,
     "metadata": {},
     "output_type": "execute_result"
    }
   ],
   "source": [
    "float(6)"
   ]
  },
  {
   "cell_type": "code",
   "execution_count": 9,
   "id": "4f8c86ba-8427-4b43-97cd-ebbd98d48a0e",
   "metadata": {},
   "outputs": [
    {
     "data": {
      "text/plain": [
       "1.0"
      ]
     },
     "execution_count": 9,
     "metadata": {},
     "output_type": "execute_result"
    }
   ],
   "source": [
    "float(True)"
   ]
  },
  {
   "cell_type": "code",
   "execution_count": 10,
   "id": "ab8cc108-10f1-4cf7-8798-a95f047d78bd",
   "metadata": {},
   "outputs": [
    {
     "ename": "ValueError",
     "evalue": "could not convert string to float: 'thanks'",
     "output_type": "error",
     "traceback": [
      "\u001b[1;31m---------------------------------------------------------------------------\u001b[0m",
      "\u001b[1;31mValueError\u001b[0m                                Traceback (most recent call last)",
      "Cell \u001b[1;32mIn[10], line 1\u001b[0m\n\u001b[1;32m----> 1\u001b[0m \u001b[38;5;28mfloat\u001b[39m(\u001b[38;5;124m\"\u001b[39m\u001b[38;5;124mthanks\u001b[39m\u001b[38;5;124m\"\u001b[39m)\n",
      "\u001b[1;31mValueError\u001b[0m: could not convert string to float: 'thanks'"
     ]
    }
   ],
   "source": [
    "float(\"thanks\")"
   ]
  },
  {
   "cell_type": "code",
   "execution_count": 11,
   "id": "3c150e72-0834-4564-bb8c-0429de1c449c",
   "metadata": {},
   "outputs": [
    {
     "data": {
      "text/plain": [
       "3.0"
      ]
     },
     "execution_count": 11,
     "metadata": {},
     "output_type": "execute_result"
    }
   ],
   "source": [
    "float('3')"
   ]
  },
  {
   "cell_type": "code",
   "execution_count": 12,
   "id": "9814dcad-ffed-4319-980e-a8582a64fd7a",
   "metadata": {},
   "outputs": [],
   "source": [
    "#bool()-- converts any data type of boolean (True or False)\n",
    "#Note: Anything apart from zero is considered as True"
   ]
  },
  {
   "cell_type": "code",
   "execution_count": 13,
   "id": "4b276c4d-568d-40df-81e9-b7d021002bb8",
   "metadata": {},
   "outputs": [
    {
     "data": {
      "text/plain": [
       "False"
      ]
     },
     "execution_count": 13,
     "metadata": {},
     "output_type": "execute_result"
    }
   ],
   "source": [
    "bool(0)"
   ]
  },
  {
   "cell_type": "code",
   "execution_count": 14,
   "id": "a562200c-712f-4992-93c7-0c5315ee749b",
   "metadata": {},
   "outputs": [
    {
     "data": {
      "text/plain": [
       "True"
      ]
     },
     "execution_count": 14,
     "metadata": {},
     "output_type": "execute_result"
    }
   ],
   "source": [
    "bool(7)"
   ]
  },
  {
   "cell_type": "code",
   "execution_count": 15,
   "id": "9295386a-ffbe-4237-a489-c038212626de",
   "metadata": {},
   "outputs": [
    {
     "data": {
      "text/plain": [
       "True"
      ]
     },
     "execution_count": 15,
     "metadata": {},
     "output_type": "execute_result"
    }
   ],
   "source": [
    "bool(3.2)"
   ]
  },
  {
   "cell_type": "code",
   "execution_count": 16,
   "id": "af791a82-c082-4ce0-b86e-c023bf9e0653",
   "metadata": {},
   "outputs": [
    {
     "data": {
      "text/plain": [
       "True"
      ]
     },
     "execution_count": 16,
     "metadata": {},
     "output_type": "execute_result"
    }
   ],
   "source": [
    "bool(\"hello\")"
   ]
  },
  {
   "cell_type": "code",
   "execution_count": 17,
   "id": "edbcf0f5-caf2-4d76-941d-8bfbb6a45900",
   "metadata": {},
   "outputs": [],
   "source": [
    "#str()-- converts any value to string"
   ]
  },
  {
   "cell_type": "code",
   "execution_count": 18,
   "id": "b5d7ae6f-8988-470c-bdd7-a54e32df223f",
   "metadata": {},
   "outputs": [
    {
     "data": {
      "text/plain": [
       "'4'"
      ]
     },
     "execution_count": 18,
     "metadata": {},
     "output_type": "execute_result"
    }
   ],
   "source": [
    "str(4)"
   ]
  },
  {
   "cell_type": "code",
   "execution_count": 19,
   "id": "30871fd3-ec18-4f32-8811-6d19baf0b5c6",
   "metadata": {},
   "outputs": [
    {
     "data": {
      "text/plain": [
       "'6.2'"
      ]
     },
     "execution_count": 19,
     "metadata": {},
     "output_type": "execute_result"
    }
   ],
   "source": [
    "str(6.2)"
   ]
  },
  {
   "cell_type": "code",
   "execution_count": 20,
   "id": "266b2f7c-dc80-4fb7-bc54-350d8ddb3277",
   "metadata": {},
   "outputs": [
    {
     "data": {
      "text/plain": [
       "'True'"
      ]
     },
     "execution_count": 20,
     "metadata": {},
     "output_type": "execute_result"
    }
   ],
   "source": [
    "str(True)"
   ]
  },
  {
   "cell_type": "markdown",
   "id": "f1fbd1bf-5b0b-4f8f-925e-7fd1abf676ec",
   "metadata": {},
   "source": [
    "# Operators in Python\n",
    "\n",
    "Operators are special symbols which can perform some tasks/ operations on values"
   ]
  },
  {
   "cell_type": "markdown",
   "id": "d71b9b19-6106-4b81-b827-8fc600efbc02",
   "metadata": {},
   "source": [
    "## 1. Arithmetic Operators\n",
    "\n",
    "They perform mathematical operations on values"
   ]
  },
  {
   "cell_type": "code",
   "execution_count": 21,
   "id": "cc2e932e-d02a-4d0a-8ab1-068e971c0e3d",
   "metadata": {},
   "outputs": [],
   "source": [
    "#Basic Operators"
   ]
  },
  {
   "cell_type": "code",
   "execution_count": 22,
   "id": "d5be0806-9a9f-48a0-b9b1-e24eda80ce47",
   "metadata": {},
   "outputs": [
    {
     "data": {
      "text/plain": [
       "8"
      ]
     },
     "execution_count": 22,
     "metadata": {},
     "output_type": "execute_result"
    }
   ],
   "source": [
    "#add\n",
    "6+2"
   ]
  },
  {
   "cell_type": "code",
   "execution_count": 23,
   "id": "34bb08a0-a275-4b6d-aeee-d24dc68d1e0e",
   "metadata": {},
   "outputs": [
    {
     "data": {
      "text/plain": [
       "4"
      ]
     },
     "execution_count": 23,
     "metadata": {},
     "output_type": "execute_result"
    }
   ],
   "source": [
    "#sub\n",
    "6-2"
   ]
  },
  {
   "cell_type": "code",
   "execution_count": 24,
   "id": "5aaa8259-c8ee-4a72-999e-c449b5412a17",
   "metadata": {},
   "outputs": [
    {
     "data": {
      "text/plain": [
       "10"
      ]
     },
     "execution_count": 24,
     "metadata": {},
     "output_type": "execute_result"
    }
   ],
   "source": [
    "#mul\n",
    "5*2"
   ]
  },
  {
   "cell_type": "code",
   "execution_count": 25,
   "id": "cba2188f-6328-4132-b845-b8268515a491",
   "metadata": {},
   "outputs": [
    {
     "data": {
      "text/plain": [
       "2.5"
      ]
     },
     "execution_count": 25,
     "metadata": {},
     "output_type": "execute_result"
    }
   ],
   "source": [
    "#div\n",
    "5/2"
   ]
  },
  {
   "cell_type": "code",
   "execution_count": 26,
   "id": "d0d2dacc-7b05-4281-a3f0-a9f1aafcd3c2",
   "metadata": {},
   "outputs": [],
   "source": [
    "#Advanced arithmetic operators"
   ]
  },
  {
   "cell_type": "code",
   "execution_count": 27,
   "id": "2d0aee96-bc7e-4b2a-affa-54a0f07c0a27",
   "metadata": {},
   "outputs": [],
   "source": [
    "#1. %(modulus) -- is used to return remainder of division"
   ]
  },
  {
   "cell_type": "code",
   "execution_count": 28,
   "id": "97c93f93-0eae-46e0-a440-f20a4bf7e814",
   "metadata": {},
   "outputs": [
    {
     "data": {
      "text/plain": [
       "1"
      ]
     },
     "execution_count": 28,
     "metadata": {},
     "output_type": "execute_result"
    }
   ],
   "source": [
    "25%2"
   ]
  },
  {
   "cell_type": "code",
   "execution_count": 29,
   "id": "ae15a807-4551-4ab1-8595-f3e24e63973b",
   "metadata": {},
   "outputs": [],
   "source": [
    "#2. //(floor division) -- it returns quotient of division in round down format"
   ]
  },
  {
   "cell_type": "code",
   "execution_count": 30,
   "id": "2e114f5e-54ca-4b25-8b42-a4abf9a34c0f",
   "metadata": {},
   "outputs": [
    {
     "data": {
      "text/plain": [
       "12"
      ]
     },
     "execution_count": 30,
     "metadata": {},
     "output_type": "execute_result"
    }
   ],
   "source": [
    "25//2"
   ]
  },
  {
   "cell_type": "code",
   "execution_count": 31,
   "id": "b7a5555a-1274-479a-ba2b-bab03d4a044e",
   "metadata": {},
   "outputs": [],
   "source": [
    "#3. **(power) -- it returns one value raised to the power of another value"
   ]
  },
  {
   "cell_type": "code",
   "execution_count": 33,
   "id": "c203a1dc-2b28-472d-8d17-0eccc7b9d622",
   "metadata": {},
   "outputs": [
    {
     "data": {
      "text/plain": [
       "343"
      ]
     },
     "execution_count": 33,
     "metadata": {},
     "output_type": "execute_result"
    }
   ],
   "source": [
    "7**3"
   ]
  },
  {
   "cell_type": "code",
   "execution_count": 36,
   "id": "9168200a-1769-426c-84b3-37378ccdbdb8",
   "metadata": {},
   "outputs": [
    {
     "data": {
      "text/plain": [
       "10.6"
      ]
     },
     "execution_count": 36,
     "metadata": {},
     "output_type": "execute_result"
    }
   ],
   "source": [
    "6+2.3*2"
   ]
  },
  {
   "cell_type": "code",
   "execution_count": 37,
   "id": "aa177864-f25b-4813-9896-1fbacaef6bb8",
   "metadata": {},
   "outputs": [
    {
     "data": {
      "text/plain": [
       "7.666666666666666"
      ]
     },
     "execution_count": 37,
     "metadata": {},
     "output_type": "execute_result"
    }
   ],
   "source": [
    "2/3+4*2-1"
   ]
  },
  {
   "cell_type": "markdown",
   "id": "07f5a072-c70f-4b9e-97ee-5d193c7ffea2",
   "metadata": {},
   "source": [
    "# Comparison Operators\n",
    "\n",
    "Comparison operators compares 2 values and returns the result in terms of True or False\n",
    "\n",
    "1) > -- (greater than)\n",
    "2) < -- (less than)\n",
    "3) >= (greater than or equal to)\n",
    "4) <= (less than or equal to)\n",
    "5) == (equal to)\n",
    "6) != (not equal to)"
   ]
  },
  {
   "cell_type": "code",
   "execution_count": 35,
   "id": "9e99d48d-da1d-454a-b454-05d0fbb3c20f",
   "metadata": {},
   "outputs": [
    {
     "name": "stdout",
     "output_type": "stream",
     "text": [
      "True\n",
      "True\n",
      "False\n",
      "False\n",
      "False\n",
      "True\n"
     ]
    }
   ],
   "source": [
    "x=12\n",
    "y=5\n",
    "print(x>y)\n",
    "print(x>=y)\n",
    "print(x<=y)\n",
    "print(x<y)\n",
    "print(x==y)\n",
    "print(x!=y)"
   ]
  },
  {
   "cell_type": "markdown",
   "id": "a0a36fd2-3708-46f7-a8c4-6a9d06c95fc4",
   "metadata": {},
   "source": [
    "# Logical Operators\n",
    "\n",
    "They are used to evaluate 2 or more comparisons"
   ]
  },
  {
   "cell_type": "code",
   "execution_count": 38,
   "id": "7bca8a80-2e5e-4f63-a35f-8cafda9a2d65",
   "metadata": {},
   "outputs": [],
   "source": [
    "# and operator -- returns True if both are True"
   ]
  },
  {
   "cell_type": "code",
   "execution_count": 39,
   "id": "59f43e3b-7f3f-4419-a568-d03515e5424e",
   "metadata": {},
   "outputs": [
    {
     "name": "stdout",
     "output_type": "stream",
     "text": [
      "False\n"
     ]
    }
   ],
   "source": [
    "print(5<=3 and 6>2)"
   ]
  },
  {
   "cell_type": "code",
   "execution_count": 40,
   "id": "94707368-9b54-49f5-a223-c9d206608852",
   "metadata": {},
   "outputs": [
    {
     "name": "stdout",
     "output_type": "stream",
     "text": [
      "True\n"
     ]
    }
   ],
   "source": [
    "print(4>2 and 3==3)"
   ]
  },
  {
   "cell_type": "code",
   "execution_count": 41,
   "id": "2b540ed2-3ecb-48b7-8f68-c61aa0a19bb0",
   "metadata": {},
   "outputs": [],
   "source": [
    "# or operator -- returns True if atleast one value is True"
   ]
  },
  {
   "cell_type": "code",
   "execution_count": 42,
   "id": "9e41325c-7a95-4fa0-a0b5-cbc0750c06a5",
   "metadata": {},
   "outputs": [
    {
     "name": "stdout",
     "output_type": "stream",
     "text": [
      "True\n"
     ]
    }
   ],
   "source": [
    "print(7<=10 or 3<2)"
   ]
  },
  {
   "cell_type": "code",
   "execution_count": 43,
   "id": "0908c09a-fa10-4143-ba65-538f6954302a",
   "metadata": {},
   "outputs": [
    {
     "name": "stdout",
     "output_type": "stream",
     "text": [
      "True\n"
     ]
    }
   ],
   "source": [
    "print(5>10 or 3<6)"
   ]
  },
  {
   "cell_type": "code",
   "execution_count": 44,
   "id": "2bc7084e-bc02-42ad-832d-476d3b13a7be",
   "metadata": {},
   "outputs": [],
   "source": [
    "# not operator -- negates/ inverses the result"
   ]
  },
  {
   "cell_type": "code",
   "execution_count": 45,
   "id": "3006e37b-4162-49f9-893e-935cb42a936b",
   "metadata": {},
   "outputs": [
    {
     "data": {
      "text/plain": [
       "False"
      ]
     },
     "execution_count": 45,
     "metadata": {},
     "output_type": "execute_result"
    }
   ],
   "source": [
    "not(8>3)"
   ]
  },
  {
   "cell_type": "code",
   "execution_count": 46,
   "id": "9f55b2e7-6faf-462a-9e93-8d0bec395ba3",
   "metadata": {},
   "outputs": [
    {
     "data": {
      "text/plain": [
       "True"
      ]
     },
     "execution_count": 46,
     "metadata": {},
     "output_type": "execute_result"
    }
   ],
   "source": [
    "not(6>4 and 4<3)"
   ]
  },
  {
   "cell_type": "code",
   "execution_count": 47,
   "id": "5f1568d7-fdeb-42a3-816f-76377049932e",
   "metadata": {},
   "outputs": [],
   "source": [
    "#Multiple operators then first preference is given to and operator"
   ]
  },
  {
   "cell_type": "code",
   "execution_count": 48,
   "id": "7aff0618-946c-4c34-8295-dcbc182431ac",
   "metadata": {},
   "outputs": [
    {
     "name": "stdout",
     "output_type": "stream",
     "text": [
      "False\n"
     ]
    }
   ],
   "source": [
    "print(4>5 or 3<2 and 8>=2)"
   ]
  },
  {
   "cell_type": "markdown",
   "id": "a0bab3c3-5735-4502-8d32-adcb389a71e0",
   "metadata": {},
   "source": [
    "# Datetime library"
   ]
  },
  {
   "cell_type": "code",
   "execution_count": 49,
   "id": "c272c3eb-0e0d-4270-b591-2dcb3df24542",
   "metadata": {},
   "outputs": [],
   "source": [
    "#from library import module"
   ]
  },
  {
   "cell_type": "code",
   "execution_count": 50,
   "id": "372b1c5d-a4ed-471c-ab87-46aec1df272b",
   "metadata": {},
   "outputs": [],
   "source": [
    "from datetime import date"
   ]
  },
  {
   "cell_type": "code",
   "execution_count": 51,
   "id": "a9da08d9-070c-4dd7-af63-cefe1e3c11ec",
   "metadata": {},
   "outputs": [
    {
     "name": "stdout",
     "output_type": "stream",
     "text": [
      "2000-12-01\n"
     ]
    }
   ],
   "source": [
    "#create date\n",
    "date1= date(2000,12,1)\n",
    "print(date1)"
   ]
  },
  {
   "cell_type": "code",
   "execution_count": 52,
   "id": "4b4457de-2ba2-4cf9-bdf2-c63d5a371e7e",
   "metadata": {},
   "outputs": [
    {
     "name": "stdout",
     "output_type": "stream",
     "text": [
      "2025-06-25\n"
     ]
    }
   ],
   "source": [
    "#today's date\n",
    "today1=date.today()\n",
    "print(today1)"
   ]
  },
  {
   "cell_type": "code",
   "execution_count": 54,
   "id": "3aed7d5b-707c-406e-af9b-cdb92d5f0926",
   "metadata": {},
   "outputs": [
    {
     "name": "stdout",
     "output_type": "stream",
     "text": [
      "2025 6 25\n"
     ]
    }
   ],
   "source": [
    "print(today1.year,today1.month,today1.day)"
   ]
  },
  {
   "cell_type": "code",
   "execution_count": 55,
   "id": "4f90d15f-c82f-4b51-985c-d0308f6cfc5b",
   "metadata": {},
   "outputs": [],
   "source": [
    "#isoweekday()--returns day of the week --1: Monday 7:Sunday"
   ]
  },
  {
   "cell_type": "code",
   "execution_count": 56,
   "id": "1fb0db6e-61d3-42b6-979a-a8d278949c99",
   "metadata": {},
   "outputs": [
    {
     "data": {
      "text/plain": [
       "3"
      ]
     },
     "execution_count": 56,
     "metadata": {},
     "output_type": "execute_result"
    }
   ],
   "source": [
    "today1.isoweekday()"
   ]
  },
  {
   "cell_type": "code",
   "execution_count": 57,
   "id": "e0d46c1d-e42e-4ab8-8dee-6d3649d6c7b9",
   "metadata": {},
   "outputs": [
    {
     "data": {
      "text/plain": [
       "5"
      ]
     },
     "execution_count": 57,
     "metadata": {},
     "output_type": "execute_result"
    }
   ],
   "source": [
    "date1.isoweekday()"
   ]
  },
  {
   "cell_type": "code",
   "execution_count": 58,
   "id": "b65a118e-decd-4a4c-bd33-df0d12b56932",
   "metadata": {},
   "outputs": [],
   "source": [
    "#time module\n",
    "from datetime import time"
   ]
  },
  {
   "cell_type": "code",
   "execution_count": 60,
   "id": "0a45b69e-0215-4c6e-9141-f065d79ba2f0",
   "metadata": {},
   "outputs": [
    {
     "name": "stdout",
     "output_type": "stream",
     "text": [
      "12:20:30.056123\n"
     ]
    }
   ],
   "source": [
    "time1=time(12,20,30,56123)#h,min,second,msecond\n",
    "print(time1)"
   ]
  },
  {
   "cell_type": "code",
   "execution_count": 61,
   "id": "7503b052-0831-4b95-8490-a5436b936141",
   "metadata": {},
   "outputs": [
    {
     "name": "stdout",
     "output_type": "stream",
     "text": [
      "12 56123\n"
     ]
    }
   ],
   "source": [
    "print(time1.hour, time1.microsecond)"
   ]
  },
  {
   "cell_type": "code",
   "execution_count": 63,
   "id": "2a2148a6-cf34-4e6c-aa85-02cf25f65c61",
   "metadata": {},
   "outputs": [],
   "source": [
    "#datetime module\n",
    "\n",
    "from datetime import datetime as dt"
   ]
  },
  {
   "cell_type": "code",
   "execution_count": 70,
   "id": "95756173-2736-4394-b8a8-9390129136d0",
   "metadata": {},
   "outputs": [
    {
     "name": "stdout",
     "output_type": "stream",
     "text": [
      "2025-06-25 10:28:38.503039\n"
     ]
    }
   ],
   "source": [
    "current=dt.now()  #prints current date & time\n",
    "print(current)"
   ]
  },
  {
   "cell_type": "code",
   "execution_count": 71,
   "id": "8bb2af5c-b6f1-473d-8622-3067bfb056b3",
   "metadata": {},
   "outputs": [
    {
     "data": {
      "text/plain": [
       "'10:28:38'"
      ]
     },
     "execution_count": 71,
     "metadata": {},
     "output_type": "execute_result"
    }
   ],
   "source": [
    "current.strftime(\"%T\")"
   ]
  },
  {
   "cell_type": "code",
   "execution_count": 73,
   "id": "22870c64-3979-4c9d-86b4-74eaeb05cd83",
   "metadata": {},
   "outputs": [
    {
     "data": {
      "text/plain": [
       "'25:06:2025'"
      ]
     },
     "execution_count": 73,
     "metadata": {},
     "output_type": "execute_result"
    }
   ],
   "source": [
    "current.strftime(\"%d:%m:%Y\")"
   ]
  },
  {
   "cell_type": "code",
   "execution_count": null,
   "id": "be5473ef-8ff0-403a-b733-10fa5d0148ef",
   "metadata": {},
   "outputs": [],
   "source": [
    "#Timedelta"
   ]
  },
  {
   "cell_type": "code",
   "execution_count": 76,
   "id": "19a20aef-70c2-48b0-ae03-58476fc82b50",
   "metadata": {},
   "outputs": [],
   "source": [
    "from datetime import timedelta as td,date"
   ]
  },
  {
   "cell_type": "code",
   "execution_count": 75,
   "id": "964f19d6-0daf-44b4-8a59-c17570861e9d",
   "metadata": {},
   "outputs": [],
   "source": [
    "#Date after 5000 days"
   ]
  },
  {
   "cell_type": "code",
   "execution_count": 77,
   "id": "061bb752-b615-4b6a-b2e8-6335426ce456",
   "metadata": {},
   "outputs": [],
   "source": [
    "today1=date.today()"
   ]
  },
  {
   "cell_type": "code",
   "execution_count": 82,
   "id": "191b6f41-059f-4c0b-8e13-7db8e3107172",
   "metadata": {},
   "outputs": [
    {
     "name": "stdout",
     "output_type": "stream",
     "text": [
      "2039-03-04\n"
     ]
    }
   ],
   "source": [
    "future_date=today1+td(days=5000)\n",
    "print(future_date)"
   ]
  },
  {
   "cell_type": "code",
   "execution_count": 80,
   "id": "9672d164-e58f-43f0-b47b-a307225cde76",
   "metadata": {},
   "outputs": [
    {
     "data": {
      "text/plain": [
       "5"
      ]
     },
     "execution_count": 80,
     "metadata": {},
     "output_type": "execute_result"
    }
   ],
   "source": [
    "future_date.isoweekday()"
   ]
  },
  {
   "cell_type": "code",
   "execution_count": 83,
   "id": "49a30b86-3b19-403d-bb81-0f311e2309d6",
   "metadata": {},
   "outputs": [],
   "source": [
    "#Calculate difference between 2 dates"
   ]
  },
  {
   "cell_type": "code",
   "execution_count": 84,
   "id": "51ce3f03-3985-4729-bf81-a4539a9c3a52",
   "metadata": {},
   "outputs": [],
   "source": [
    "date1=date(2024, 12, 8)\n",
    "date2=date(2024, 12,25)"
   ]
  },
  {
   "cell_type": "code",
   "execution_count": 89,
   "id": "7d32bdf4-6e63-4771-8bd7-e1d9a51c0d2f",
   "metadata": {},
   "outputs": [
    {
     "name": "stdout",
     "output_type": "stream",
     "text": [
      "17 days, 0:00:00\n"
     ]
    }
   ],
   "source": [
    "diff=date2-date1\n",
    "print(diff)"
   ]
  },
  {
   "cell_type": "code",
   "execution_count": 90,
   "id": "2653fa5b-4fde-43ba-857f-bfb035251f2e",
   "metadata": {},
   "outputs": [
    {
     "name": "stdout",
     "output_type": "stream",
     "text": [
      "17\n"
     ]
    }
   ],
   "source": [
    "print(diff.days)"
   ]
  }
 ],
 "metadata": {
  "kernelspec": {
   "display_name": "Python 3 (ipykernel)",
   "language": "python",
   "name": "python3"
  },
  "language_info": {
   "codemirror_mode": {
    "name": "ipython",
    "version": 3
   },
   "file_extension": ".py",
   "mimetype": "text/x-python",
   "name": "python",
   "nbconvert_exporter": "python",
   "pygments_lexer": "ipython3",
   "version": "3.11.7"
  }
 },
 "nbformat": 4,
 "nbformat_minor": 5
}
