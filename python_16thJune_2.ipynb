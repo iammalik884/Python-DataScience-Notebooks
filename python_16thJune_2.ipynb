{
 "cells": [
  {
   "cell_type": "markdown",
   "id": "01f8231b-a8ad-4295-969f-7e77157f8e5c",
   "metadata": {},
   "source": [
    "# Conditional Statements"
   ]
  },
  {
   "cell_type": "markdown",
   "id": "fdece371-feaa-4432-b567-2b4ac286bdac",
   "metadata": {},
   "source": [
    "if conditional statements checks for a condition. When the condition is True, it executes code inside if.\n",
    "If the condition is False, code immediately after if will be execute."
   ]
  },
  {
   "cell_type": "code",
   "execution_count": 1,
   "id": "d4d27ac1-c9ff-4684-b142-54f127e4b19e",
   "metadata": {},
   "outputs": [
    {
     "name": "stdout",
     "output_type": "stream",
     "text": [
      "Positive\n"
     ]
    }
   ],
   "source": [
    "x=5\n",
    "if x>0:\n",
    "    print(\"Positive\")"
   ]
  },
  {
   "cell_type": "code",
   "execution_count": 8,
   "id": "5b9ef730-5081-4d14-a2c0-aaba78120894",
   "metadata": {},
   "outputs": [
    {
     "name": "stdout",
     "output_type": "stream",
     "text": [
      "bye\n"
     ]
    }
   ],
   "source": [
    "x=\"hello\"\n",
    "if x==\"HELLO\":\n",
    "    print(\"Same\")\n",
    "print(\"bye\")  #always executes"
   ]
  },
  {
   "cell_type": "markdown",
   "id": "414ddd67-b800-410c-b99f-616b8fb6ee15",
   "metadata": {},
   "source": [
    "## if-else statements\n",
    "\n",
    "When condition is True, statements inside if executes. When condition is False, statements under else will execute."
   ]
  },
  {
   "cell_type": "code",
   "execution_count": 9,
   "id": "2e6ff479-8606-4c63-a54b-de9c50f3713d",
   "metadata": {},
   "outputs": [
    {
     "name": "stdout",
     "output_type": "stream",
     "text": [
      "Negative\n"
     ]
    }
   ],
   "source": [
    "x=-5\n",
    "if x>0:\n",
    "    print(\"Positive\")\n",
    "else:\n",
    "    print(\"Negative\")"
   ]
  },
  {
   "cell_type": "code",
   "execution_count": 13,
   "id": "c00be2d8-99a1-46e1-b579-3afc55c10245",
   "metadata": {},
   "outputs": [
    {
     "name": "stdout",
     "output_type": "stream",
     "text": [
      "All are small case letters\n"
     ]
    }
   ],
   "source": [
    "i=\"Hello\"\n",
    "if i.isupper():\n",
    "    print(\"All are capitals\")\n",
    "else:\n",
    "    print(\"All are small case letters\")"
   ]
  },
  {
   "cell_type": "code",
   "execution_count": 14,
   "id": "4b427874-b4b7-4281-9b05-009180e12032",
   "metadata": {},
   "outputs": [
    {
     "name": "stdout",
     "output_type": "stream",
     "text": [
      "Odd\n"
     ]
    }
   ],
   "source": [
    "y=53\n",
    "if x%2==0:\n",
    "    print(\"Even\")\n",
    "else:\n",
    "    print(\"Odd\")"
   ]
  },
  {
   "cell_type": "markdown",
   "id": "07a3429e-296c-43bf-9f13-aada3dd3b1db",
   "metadata": {},
   "source": [
    "## if-elif conditions\n",
    "\n",
    "if-elif conditions are used to check multiple conditions. If one condition is not True, it will check another condition under elif."
   ]
  },
  {
   "cell_type": "code",
   "execution_count": 17,
   "id": "bd362c48-efc0-411f-ac7e-fbaa73712c30",
   "metadata": {},
   "outputs": [
    {
     "name": "stdout",
     "output_type": "stream",
     "text": [
      "3rd if\n"
     ]
    }
   ],
   "source": [
    "x=6\n",
    "if x<0:\n",
    "    print(\"1st if\")\n",
    "elif x<-1:\n",
    "    print(\"2nd if\")\n",
    "elif x>5:\n",
    "    print(\"3rd if\")\n",
    "elif x==6:\n",
    "      print(\"4th if\")\n",
    "else:\n",
    "    print(\"none\")"
   ]
  },
  {
   "cell_type": "markdown",
   "id": "bb124b0e-3a16-473c-bac0-12fe4075645e",
   "metadata": {},
   "source": [
    "input()-- allows users to enter values. By default any value taken in input() is considered as string."
   ]
  },
  {
   "cell_type": "code",
   "execution_count": 18,
   "id": "79bfc3e7-c8bb-487d-b9ac-22449da9e028",
   "metadata": {},
   "outputs": [
    {
     "name": "stdin",
     "output_type": "stream",
     "text": [
      "Enter a number: 5\n"
     ]
    },
    {
     "data": {
      "text/plain": [
       "'5'"
      ]
     },
     "execution_count": 18,
     "metadata": {},
     "output_type": "execute_result"
    }
   ],
   "source": [
    "x=input(\"Enter a number:\")\n",
    "x"
   ]
  },
  {
   "cell_type": "code",
   "execution_count": 19,
   "id": "0de5c5ef-a57e-4553-a20d-245705fd65da",
   "metadata": {},
   "outputs": [
    {
     "data": {
      "text/plain": [
       "str"
      ]
     },
     "execution_count": 19,
     "metadata": {},
     "output_type": "execute_result"
    }
   ],
   "source": [
    "type(x)"
   ]
  },
  {
   "cell_type": "code",
   "execution_count": 20,
   "id": "169f3066-e506-4515-a886-db007862732f",
   "metadata": {},
   "outputs": [
    {
     "ename": "TypeError",
     "evalue": "'>' not supported between instances of 'str' and 'int'",
     "output_type": "error",
     "traceback": [
      "\u001b[1;31m---------------------------------------------------------------------------\u001b[0m",
      "\u001b[1;31mTypeError\u001b[0m                                 Traceback (most recent call last)",
      "Cell \u001b[1;32mIn[20], line 1\u001b[0m\n\u001b[1;32m----> 1\u001b[0m \u001b[38;5;28;01mif\u001b[39;00m x\u001b[38;5;241m>\u001b[39m\u001b[38;5;241m0\u001b[39m:\n\u001b[0;32m      2\u001b[0m     \u001b[38;5;28mprint\u001b[39m(\u001b[38;5;124m\"\u001b[39m\u001b[38;5;124mPositive\u001b[39m\u001b[38;5;124m\"\u001b[39m)\n",
      "\u001b[1;31mTypeError\u001b[0m: '>' not supported between instances of 'str' and 'int'"
     ]
    }
   ],
   "source": [
    "if x>0:\n",
    "    print(\"Positive\")"
   ]
  },
  {
   "cell_type": "code",
   "execution_count": 21,
   "id": "a0b55bf1-6c44-446b-9d9d-ef691963b6b1",
   "metadata": {},
   "outputs": [
    {
     "name": "stdin",
     "output_type": "stream",
     "text": [
      "Enter a number: 5\n"
     ]
    },
    {
     "data": {
      "text/plain": [
       "5"
      ]
     },
     "execution_count": 21,
     "metadata": {},
     "output_type": "execute_result"
    }
   ],
   "source": [
    "x=int(input(\"Enter a number:\"))\n",
    "x"
   ]
  },
  {
   "cell_type": "code",
   "execution_count": 22,
   "id": "62b71095-51f4-4ecc-8895-f580eec02a31",
   "metadata": {},
   "outputs": [
    {
     "data": {
      "text/plain": [
       "int"
      ]
     },
     "execution_count": 22,
     "metadata": {},
     "output_type": "execute_result"
    }
   ],
   "source": [
    "type(x)"
   ]
  },
  {
   "cell_type": "code",
   "execution_count": 23,
   "id": "67ed4f03-9393-4b3c-876a-532b691644d0",
   "metadata": {},
   "outputs": [
    {
     "name": "stdout",
     "output_type": "stream",
     "text": [
      "Positive\n"
     ]
    }
   ],
   "source": [
    "if x>0:\n",
    "    print(\"Positive\")"
   ]
  },
  {
   "cell_type": "code",
   "execution_count": null,
   "id": "f0ce0c19-e560-4de3-aa26-43cdfc01888f",
   "metadata": {},
   "outputs": [],
   "source": [
    "#Task: Write a program using if else or elif where we need to prompt users to enter their age, \n",
    "#and check if they are eligible to play cricket."
   ]
  },
  {
   "cell_type": "code",
   "execution_count": 34,
   "id": "9dde76a8-156f-4497-bf24-5a689b1ee2c8",
   "metadata": {},
   "outputs": [
    {
     "name": "stdin",
     "output_type": "stream",
     "text": [
      "Enter your age: 7\n"
     ]
    },
    {
     "data": {
      "text/plain": [
       "7"
      ]
     },
     "execution_count": 34,
     "metadata": {},
     "output_type": "execute_result"
    }
   ],
   "source": [
    "age=int(input(\"Enter your age:\"))\n",
    "age"
   ]
  },
  {
   "cell_type": "code",
   "execution_count": 35,
   "id": "4396942f-da0e-45f1-9eed-d8a6d59ff333",
   "metadata": {},
   "outputs": [
    {
     "name": "stdout",
     "output_type": "stream",
     "text": [
      "Not selected: Underage\n"
     ]
    }
   ],
   "source": [
    "if age>18 and age<=35:\n",
    "    print(\"selected\")\n",
    "elif age==18:\n",
    "    print(\"You might get selected\")\n",
    "elif age<18:\n",
    "    print(\"Not selected: Underage\")\n",
    "else:\n",
    "    print(\"Not selected: Exceeding age limit\")"
   ]
  },
  {
   "cell_type": "markdown",
   "id": "e64b487e-42da-4817-acd3-02d5eb07862b",
   "metadata": {},
   "source": [
    "# Nested if conditions\n",
    "\n",
    "When one if statement is inside another if statements then we call such if statements as nested."
   ]
  },
  {
   "cell_type": "code",
   "execution_count": 36,
   "id": "3d1ecc93-f530-4e8f-bdca-83c2cf7af147",
   "metadata": {},
   "outputs": [
    {
     "name": "stdout",
     "output_type": "stream",
     "text": [
      "First if\n",
      "second if\n"
     ]
    }
   ],
   "source": [
    "x=6\n",
    "if x>0:\n",
    "    print(\"First if\")\n",
    "    if x==6:\n",
    "        print(\"second if\")\n",
    "    else:\n",
    "        print(\"else of second if\")"
   ]
  },
  {
   "cell_type": "code",
   "execution_count": 37,
   "id": "00093072-4020-42a6-8605-e7869d47edad",
   "metadata": {},
   "outputs": [
    {
     "name": "stdout",
     "output_type": "stream",
     "text": [
      "Grade B\n"
     ]
    }
   ],
   "source": [
    "score=80\n",
    "if score>=50:\n",
    "    if score>=90:\n",
    "        print(\"Grade A\")\n",
    "    elif score>=75:\n",
    "        print(\"Grade B\")\n",
    "    else:\n",
    "        print(\"Grade C\")\n",
    "else:\n",
    "    print(\"Fail\")"
   ]
  },
  {
   "cell_type": "code",
   "execution_count": 39,
   "id": "a7352f08-b9ce-4398-8a3c-07e24c13f5f8",
   "metadata": {},
   "outputs": [
    {
     "name": "stdout",
     "output_type": "stream",
     "text": [
      "Login success\n"
     ]
    }
   ],
   "source": [
    "userid=\"siya\"\n",
    "password=\"abc\"\n",
    "\n",
    "if userid==\"siya\":\n",
    "    if password==\"abc\":\n",
    "        print(\"Login success\")\n",
    "    else:\n",
    "        print(\"Wrong password entered\")\n",
    "else:\n",
    "    print(\"Wrong userid\")"
   ]
  },
  {
   "cell_type": "markdown",
   "id": "54fc6cf4-f9b5-427d-a44c-c324b9d3d4b3",
   "metadata": {},
   "source": [
    "# Data Structures\n",
    "\n",
    "Data structures are ways to organise and store your data so that we can easily access it and perform any operations on it."
   ]
  },
  {
   "cell_type": "markdown",
   "id": "a0c8b029-3edd-49d6-9794-a58816803cc4",
   "metadata": {},
   "source": [
    "# List"
   ]
  },
  {
   "cell_type": "code",
   "execution_count": 42,
   "id": "170787ea-3235-49ac-b137-a24dfdb280f7",
   "metadata": {},
   "outputs": [
    {
     "data": {
      "text/plain": [
       "[]"
      ]
     },
     "execution_count": 42,
     "metadata": {},
     "output_type": "execute_result"
    }
   ],
   "source": [
    "l1=[]  #empty list-- list with no elements\n",
    "l1"
   ]
  },
  {
   "cell_type": "code",
   "execution_count": 43,
   "id": "35a15947-4d2d-4464-bb64-cf61d377b233",
   "metadata": {},
   "outputs": [
    {
     "data": {
      "text/plain": [
       "[5, -2, 10, 6, 12, 4]"
      ]
     },
     "execution_count": 43,
     "metadata": {},
     "output_type": "execute_result"
    }
   ],
   "source": [
    "l2=[5,-2,10,6,12,4] #list of int\n",
    "l2"
   ]
  },
  {
   "cell_type": "code",
   "execution_count": 45,
   "id": "c261682e-197e-4502-80df-8a853e8329d4",
   "metadata": {},
   "outputs": [
    {
     "data": {
      "text/plain": [
       "['hello', 'hi', 'bye', 'thanks']"
      ]
     },
     "execution_count": 45,
     "metadata": {},
     "output_type": "execute_result"
    }
   ],
   "source": [
    "l3=[\"hello\",\"hi\",\"bye\",\"thanks\"]  #list of strings\n",
    "l3"
   ]
  },
  {
   "cell_type": "code",
   "execution_count": 48,
   "id": "d0c7f4fc-a8fa-4541-963e-89a49e2ce078",
   "metadata": {},
   "outputs": [
    {
     "data": {
      "text/plain": [
       "[4, 9.2, 'hi', True, (2+4j)]"
      ]
     },
     "execution_count": 48,
     "metadata": {},
     "output_type": "execute_result"
    }
   ],
   "source": [
    "l4=[4,9.2,\"hi\",True,2+4j]   #list of mixed data\n",
    "l4"
   ]
  },
  {
   "cell_type": "code",
   "execution_count": 49,
   "id": "33fe9c7e-0ecc-4a9d-8ded-37b69d21b42c",
   "metadata": {},
   "outputs": [
    {
     "data": {
      "text/plain": [
       "[3, 5, [1, 2, 5], [4, 8]]"
      ]
     },
     "execution_count": 49,
     "metadata": {},
     "output_type": "execute_result"
    }
   ],
   "source": [
    "l5=[3,5,[1,2,5],[4,8]]  #Nested list\n",
    "l5"
   ]
  }
 ],
 "metadata": {
  "kernelspec": {
   "display_name": "Python 3 (ipykernel)",
   "language": "python",
   "name": "python3"
  },
  "language_info": {
   "codemirror_mode": {
    "name": "ipython",
    "version": 3
   },
   "file_extension": ".py",
   "mimetype": "text/x-python",
   "name": "python",
   "nbconvert_exporter": "python",
   "pygments_lexer": "ipython3",
   "version": "3.11.7"
  }
 },
 "nbformat": 4,
 "nbformat_minor": 5
}
